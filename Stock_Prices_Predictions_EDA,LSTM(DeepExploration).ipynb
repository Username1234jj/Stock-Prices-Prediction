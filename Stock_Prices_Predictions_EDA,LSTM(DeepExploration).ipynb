{
  "cells": [
    {
      "cell_type": "markdown",
      "metadata": {
        "id": "view-in-github",
        "colab_type": "text"
      },
      "source": [
        "<a href=\"https://colab.research.google.com/github/Username1234jj/Stock-Prices-Prediction/blob/main/Stock_Prices_Predictions_EDA%2CLSTM(DeepExploration).ipynb\" target=\"_parent\"><img src=\"https://colab.research.google.com/assets/colab-badge.svg\" alt=\"Open In Colab\"/></a>"
      ]
    },
    {
      "source": [
        "# IMPORTANT: RUN THIS CELL IN ORDER TO IMPORT YOUR KAGGLE DATA SOURCES,\n",
        "# THEN FEEL FREE TO DELETE THIS CELL.\n",
        "# NOTE: THIS NOTEBOOK ENVIRONMENT DIFFERS FROM KAGGLE'S PYTHON\n",
        "# ENVIRONMENT SO THERE MAY BE MISSING LIBRARIES USED BY YOUR\n",
        "# NOTEBOOK.\n",
        "import kagglehub\n",
        "saurabhshahane_bse_stocks_data_15_minute_interval_historical_path = kagglehub.dataset_download('saurabhshahane/bse-stocks-data-15-minute-interval-historical')\n",
        "\n",
        "print('Data source import complete.')\n"
      ],
      "metadata": {
        "id": "lmy9gfzsdWMd"
      },
      "cell_type": "code",
      "outputs": [],
      "execution_count": null
    },
    {
      "metadata": {
        "id": "ejsHZZuvdWMq"
      },
      "cell_type": "markdown",
      "source": [
        "<img src=\"https://images.livemint.com/img/2019/09/10/600x338/BSE_1568133535025.jpg\">\n",
        "<h1><center>Bombay Stock Exchange </center></h1>\n",
        "<h2><center>EDA and Preprocessing</center></h2>\n",
        "\n",
        "\n",
        "# Introduction\n",
        "\n",
        "\n",
        "The Bombay Stock Exchange (BSE) is the first and largest securities market in India and was established in 1875 as the Native Share and Stock Brokers' Association. Based in Mumbai, India, the BSE lists close to 6,000 companies and is one of the largest exchanges in the world, along with the New York Stock Exchange (NYSE), Nasdaq, London Stock Exchange Group, Japan Exchange Group, and Shanghai Stock Exchange.\n",
        "\n",
        "### Dataset\n",
        "This dataset contains historical prices of various stocks from Bombay Stock Exchange with 15 minute interval.\n",
        "\n",
        "\n",
        "#### For this notebook only SIEMENS's stock data is used."
      ]
    },
    {
      "metadata": {
        "id": "SXN_BkbtdWMw"
      },
      "cell_type": "markdown",
      "source": [
        "#### Libraries"
      ]
    },
    {
      "metadata": {
        "trusted": true,
        "_kg_hide-input": true,
        "id": "AfKyDrifdWMz"
      },
      "cell_type": "code",
      "source": [
        "import plotly.graph_objects as go\n",
        "import matplotlib.pyplot as plt\n",
        "import plotly.express as px\n",
        "import pandas as pd\n",
        "import numpy as np\n",
        "from datetime import datetime\n",
        "from statsmodels.tsa.seasonal import seasonal_decompose\n",
        "import seaborn as sns\n",
        "import plotly.figure_factory as ff\n",
        "from keras.models import Sequential\n",
        "from keras.layers import LSTM,Dropout,Dense\n",
        "\n",
        "\n",
        "from sklearn.preprocessing import MinMaxScaler\n",
        "import warnings\n",
        "warnings.filterwarnings(\"ignore\", category=DeprecationWarning)\n"
      ],
      "execution_count": null,
      "outputs": []
    },
    {
      "metadata": {
        "trusted": true,
        "_kg_hide-input": true,
        "id": "MtHKBq0BdWM1"
      },
      "cell_type": "code",
      "source": [
        "df = pd.read_pickle('/kaggle/input/bse-stocks-data-15-minute-interval-historical/SIEMENS-15minute-Hist')\n",
        "df = pd.DataFrame(df)\n",
        "df['date'] = df['date'].apply(pd.to_datetime)\n",
        "df.set_index('date',inplace=True)\n"
      ],
      "execution_count": null,
      "outputs": []
    },
    {
      "metadata": {
        "id": "fVfp0yF6dWM2"
      },
      "cell_type": "markdown",
      "source": [
        "## Dataset"
      ]
    },
    {
      "metadata": {
        "trusted": true,
        "_kg_hide-input": true,
        "_kg_hide-output": false,
        "id": "DtSkBNJbdWM4"
      },
      "cell_type": "code",
      "source": [
        "fig = go.Figure(data=[go.Table(\n",
        "    header=dict(values=list(['date','open','high','low','close','volume']),\n",
        "                fill_color='paleturquoise',\n",
        "                align='left'),\n",
        "    cells=dict(values=[df.index,df.open, df.high, df.low, df.close,df.volume],\n",
        "               fill_color='lavender',\n",
        "               align='left'))\n",
        "])\n",
        "\n",
        "fig.show()"
      ],
      "execution_count": null,
      "outputs": []
    },
    {
      "metadata": {
        "id": "bwSNGgzWdWOI"
      },
      "cell_type": "markdown",
      "source": [
        "### So basically this dataset contains 6 different features i.e. date, open, high, low, close, volume\n",
        "\n",
        "### Date - This contains date + time at the instant of trade\n",
        "\n",
        "### Open - Open is the price when the stock began\n",
        "\n",
        "### High - Maximum price at the given time period\n",
        "\n",
        "### Low - Minimum price at the given time period\n",
        "\n",
        "### Close - Price at which stock ended\n",
        "\n",
        "### Volume - It is the total amount of trading activity\n",
        "\n",
        "### Incase of our data the time period is 15 minutes"
      ]
    },
    {
      "metadata": {
        "trusted": true,
        "_kg_hide-input": true,
        "id": "YyW9I9WQdWOK"
      },
      "cell_type": "code",
      "source": [
        "from plotly.subplots import make_subplots\n",
        "import plotly.graph_objects as go\n",
        "from plotly.graph_objs import Line\n",
        "\n",
        "fig = make_subplots(rows=4, cols=1,subplot_titles=('Open','High','Low','Close'))\n",
        "\n",
        "fig.add_trace(\n",
        "    Line(x=df.index, y=df.open),\n",
        "    row=1, col=1\n",
        ")\n",
        "\n",
        "fig.add_trace(\n",
        "    Line(x=df.index, y=df.high),\n",
        "    row=2, col=1\n",
        ")\n",
        "\n",
        "fig.add_trace(\n",
        "    Line(x=df.index, y=df.low),\n",
        "    row=3, col=1\n",
        ")\n",
        "\n",
        "fig.add_trace(\n",
        "    go.Line(x=df.index, y=df.close),\n",
        "    row=4, col=1\n",
        ")\n",
        "\n",
        "fig.update_layout(height=1400, width=1000, title_text=\"OHLC Line Plots\")\n",
        "\n",
        "fig.show()\n"
      ],
      "execution_count": null,
      "outputs": []
    },
    {
      "metadata": {
        "id": "eH7ky3xUdWOM"
      },
      "cell_type": "markdown",
      "source": [
        "## Visualizing Patterns in the Data"
      ]
    },
    {
      "metadata": {
        "trusted": true,
        "_kg_hide-input": true,
        "id": "Elf7prVPdWON"
      },
      "cell_type": "code",
      "source": [
        "#only first 5000 values are taken because it was looking very crowded\n",
        "result = seasonal_decompose(df.close.head(5000), model='additive', period = 30)\n",
        "fig = go.Figure()\n",
        "fig = result.plot()\n",
        "fig.set_size_inches(20, 19)"
      ],
      "execution_count": null,
      "outputs": []
    },
    {
      "metadata": {
        "id": "a_bpczkjdWOO"
      },
      "cell_type": "markdown",
      "source": [
        "## Candlestick\n",
        "\n",
        "* Candlestick charts are used by traders to determine possible price movement based on past patterns.\n",
        "\n",
        "* Candlesticks are useful when trading as they show four price points (open, close, high, and low) throughout the period of time the trader specifies.\n",
        "\n",
        "* Many algorithms are based on the same price information shown in candlestick charts.\n",
        "\n",
        "* Trading is often dictated by emotion, which can be read in candlestick charts.\n",
        "\n",
        "<img src=\"https://alpari.com/storage/inline-images/Forex%20candlestick%20patterns%20and%20how%20to%20use%20them%20-%201_0.png\">\n"
      ]
    },
    {
      "metadata": {
        "id": "L0LpWBhodWOP"
      },
      "cell_type": "markdown",
      "source": [
        "## Sample Candlesticks\n",
        "\n",
        "#### We can see 5 different types of candlesticks below."
      ]
    },
    {
      "metadata": {
        "trusted": true,
        "_kg_hide-input": true,
        "collapsed": true,
        "id": "Zw9G7QG7dWOQ"
      },
      "cell_type": "code",
      "source": [
        "open_data = [33.0, 33.3, 33.5, 33.0, 34.1]\n",
        "high_data = [33.1, 33.3, 33.6, 33.2, 34.8]\n",
        "low_data = [32.7, 32.7, 32.8, 32.6, 32.8]\n",
        "close_data = [33.0, 32.9, 33.3, 33.1, 33.1]\n",
        "dates = [datetime(year=2013, month=10, day=10),\n",
        "         datetime(year=2013, month=11, day=10),\n",
        "         datetime(year=2013, month=12, day=10),\n",
        "         datetime(year=2014, month=1, day=10),\n",
        "         datetime(year=2014, month=2, day=10)]\n",
        "\n",
        "fig = go.Figure(data=[go.Candlestick(x=dates,\n",
        "                       open=open_data, high=high_data,\n",
        "                       low=low_data, close=close_data,\n",
        "               increasing_line_color= 'green', decreasing_line_color= 'red')])\n",
        "\n",
        "fig.show()"
      ],
      "execution_count": null,
      "outputs": []
    },
    {
      "metadata": {
        "id": "sh0sHqv8dWOS"
      },
      "cell_type": "markdown",
      "source": [
        "# Candlestick chart for Siemens"
      ]
    },
    {
      "metadata": {
        "trusted": true,
        "_kg_hide-input": true,
        "id": "4nQX3-1mdWOT"
      },
      "cell_type": "code",
      "source": [
        "import plotly.graph_objects as go\n",
        "\n",
        "import pandas as pd\n",
        "from datetime import datetime\n",
        "\n",
        "\n",
        "fig = go.Figure(data=[go.Candlestick(x=df.index,\n",
        "                open=df['open'],\n",
        "                high=df['high'],\n",
        "                low=df['low'],\n",
        "                close=df['close'])])\n",
        "\n",
        "fig.show()"
      ],
      "execution_count": null,
      "outputs": []
    },
    {
      "metadata": {
        "id": "pOMfQtWMdWOU"
      },
      "cell_type": "markdown",
      "source": [
        "# Creating Train Test Data"
      ]
    },
    {
      "metadata": {
        "trusted": true,
        "id": "ZRhQuuCMdWOV"
      },
      "cell_type": "code",
      "source": [
        "new_df = pd.DataFrame()\n",
        "new_df = df['close']\n",
        "new_df.index = df.index"
      ],
      "execution_count": null,
      "outputs": []
    },
    {
      "metadata": {
        "trusted": true,
        "id": "qWYQRwTTdWOX"
      },
      "cell_type": "code",
      "source": [
        "scaler=MinMaxScaler(feature_range=(0,1))\n",
        "final_dataset=new_df.values\n",
        "\n",
        "train_data=final_dataset[0:20000,]\n",
        "valid_data=final_dataset[20000:,]\n",
        "\n",
        "\n"
      ],
      "execution_count": null,
      "outputs": []
    },
    {
      "metadata": {
        "trusted": true,
        "id": "AmNQs-LodWOX"
      },
      "cell_type": "code",
      "source": [
        "train_df = pd.DataFrame()\n",
        "valid_df = pd.DataFrame()\n",
        "train_df['Close'] = train_data\n",
        "train_df.index = new_df[0:20000].index\n",
        "valid_df['Close'] = valid_data\n",
        "valid_df.index = new_df[20000:].index\n"
      ],
      "execution_count": null,
      "outputs": []
    },
    {
      "metadata": {
        "trusted": true,
        "id": "r8EHc2MLdWOY"
      },
      "cell_type": "code",
      "source": [
        "scaler=MinMaxScaler(feature_range=(0,1))\n",
        "scaled_data=scaler.fit_transform(final_dataset.reshape(-1,1))\n",
        "\n",
        "x_train_data,y_train_data=[],[]\n",
        "\n",
        "for i in range(60,len(train_data)):\n",
        "    x_train_data.append(scaled_data[i-60:i,0])\n",
        "    y_train_data.append(scaled_data[i,0])\n",
        "\n",
        "x_train_data,y_train_data=np.array(x_train_data),np.array(y_train_data)\n",
        "\n",
        "x_train_data=np.reshape(x_train_data,(x_train_data.shape[0],x_train_data.shape[1],1))"
      ],
      "execution_count": null,
      "outputs": []
    },
    {
      "metadata": {
        "id": "oGdR6VrYdWOY"
      },
      "cell_type": "markdown",
      "source": [
        "# Long Short Term Memory Networks(LSTM)\n",
        "\n",
        "Do you think about everything from scratch. No. You perform the actions based on your past memory. For example if you are reading a newspaper, you understand words because in your past you have read them and they are stored in your memory. If you encounter a new word then it gets stored in your memory newly. So the question is Do you want your model to process everything from scratch? Or you want to make it more intelligent by creating a memory space. Thats when LSTM comes into the game. LSTM which is long short term memory is the type of RNN which can hold memory for longer period of time. They are a good fit for time series preditiction, or forecasting problems.\n",
        "\n",
        "<img src=\"https://miro.medium.com/max/3000/1*laH0_xXEkFE0lKJu54gkFQ.png\">\n",
        "\n",
        "Image Taken From [Here](https://medium.com/mlreview/understanding-lstm-and-its-diagrams-37e2f46f1714)"
      ]
    },
    {
      "metadata": {
        "trusted": true,
        "id": "A9Y7PAg7dWOZ"
      },
      "cell_type": "code",
      "source": [
        "lstm_model=Sequential()\n",
        "lstm_model.add(LSTM(units=50,return_sequences=True,input_shape=(x_train_data.shape[1],1)))\n",
        "lstm_model.add(LSTM(units=50))\n",
        "lstm_model.add(Dense(1))\n",
        "\n",
        "inputs_data=new_df[len(new_df)-len(valid_data)-60:].values\n",
        "inputs_data=inputs_data.reshape(-1,1)\n",
        "inputs_data=scaler.transform(inputs_data)\n",
        "\n",
        "lstm_model.compile(loss='mean_squared_error',optimizer='adam')\n",
        "lstm_model.fit(x_train_data,y_train_data,epochs=1,batch_size=1,verbose=2)\n",
        "\n",
        "lstm_model.summary()"
      ],
      "execution_count": null,
      "outputs": []
    },
    {
      "metadata": {
        "trusted": true,
        "_kg_hide-input": false,
        "id": "7fyv-J9ddWOZ"
      },
      "cell_type": "code",
      "source": [
        "X_test=[]\n",
        "for i in range(60,inputs_data.shape[0]):\n",
        "    X_test.append(inputs_data[i-60:i,0])\n",
        "X_test=np.array(X_test)\n",
        "\n",
        "X_test=np.reshape(X_test,(X_test.shape[0],X_test.shape[1],1))\n",
        "predicted_closing_price=lstm_model.predict(X_test)\n",
        "predicted_closing_price=scaler.inverse_transform(predicted_closing_price)"
      ],
      "execution_count": null,
      "outputs": []
    },
    {
      "metadata": {
        "trusted": true,
        "_kg_hide-input": false,
        "id": "iA8IgXkOdWOa"
      },
      "cell_type": "code",
      "source": [
        "valid_df['Predictions']=predicted_closing_price"
      ],
      "execution_count": null,
      "outputs": []
    },
    {
      "metadata": {
        "id": "2s0Ori-vdWOa"
      },
      "cell_type": "markdown",
      "source": [
        "# Predictions"
      ]
    },
    {
      "metadata": {
        "_kg_hide-input": true,
        "trusted": true,
        "collapsed": true,
        "id": "VmElk0qvdWOb"
      },
      "cell_type": "code",
      "source": [
        "fig = go.Figure()\n",
        "fig.add_trace(go.Scatter(x=train_df.index,y=train_df['Close'],\n",
        "                    mode='lines',\n",
        "                    name='Siemens Train Data'))\n",
        "fig.add_trace(go.Scatter(x=valid_df.index,y=valid_df['Close'],\n",
        "                    mode='lines',\n",
        "                    name='Siemens Valid Data'))\n",
        "fig.add_trace(go.Scatter(x=valid_df.index,y=valid_df['Predictions'],\n",
        "                    mode='lines',\n",
        "                    name='Prediction'))"
      ],
      "execution_count": null,
      "outputs": []
    },
    {
      "metadata": {
        "_kg_hide-input": true,
        "trusted": true,
        "id": "TE0yCwAPdWOb"
      },
      "cell_type": "code",
      "source": [
        "from sklearn.metrics import mean_squared_error\n",
        "print('The Mean Squared Error is',mean_squared_error(valid_df['Close'].values,valid_df['Predictions'].values))"
      ],
      "execution_count": null,
      "outputs": []
    },
    {
      "metadata": {
        "id": "IiQzqfXFdWOc"
      },
      "cell_type": "markdown",
      "source": [
        "# Let's have a closer look"
      ]
    },
    {
      "metadata": {
        "_kg_hide-input": true,
        "trusted": true,
        "id": "hSmqSd4GdWOc"
      },
      "cell_type": "code",
      "source": [
        "fig = go.Figure()\n",
        "\n",
        "fig.add_trace(go.Scatter(x=valid_df.index,y=valid_df['Close'],\n",
        "                    mode='lines',\n",
        "                    name='Test'))\n",
        "fig.add_trace(go.Scatter(x=valid_df.index,y=valid_df['Predictions'],\n",
        "                    mode='lines',\n",
        "                    name='Predicted'))"
      ],
      "execution_count": null,
      "outputs": []
    },
    {
      "metadata": {
        "id": "ZKTCceETdWOd"
      },
      "cell_type": "markdown",
      "source": [
        "### From this visualization we can conclude that LSTM worked well. It can be improved though!"
      ]
    },
    {
      "metadata": {
        "trusted": true,
        "_kg_hide-input": true,
        "_kg_hide-output": true,
        "id": "VlnI5E4AdWOd"
      },
      "cell_type": "code",
      "source": [
        "!pip install see_rnn\n"
      ],
      "execution_count": null,
      "outputs": []
    },
    {
      "metadata": {
        "trusted": true,
        "_kg_hide-input": true,
        "id": "T54sKaWSdWOe"
      },
      "cell_type": "code",
      "source": [
        "from see_rnn import *"
      ],
      "execution_count": null,
      "outputs": []
    },
    {
      "metadata": {
        "trusted": true,
        "_kg_hide-input": true,
        "id": "qYubsUFCdWOe"
      },
      "cell_type": "code",
      "source": [
        "grads1 = get_gradients(lstm_model, 1, x_train_data, y_train_data)\n",
        "grads2 = get_gradients(lstm_model,2,x_train_data,y_train_data)\n",
        "output = get_outputs(lstm_model, 1, x_train_data)"
      ],
      "execution_count": null,
      "outputs": []
    },
    {
      "metadata": {
        "id": "ke-id_C9dWOf"
      },
      "cell_type": "markdown",
      "source": [
        "# A Visual Exploration of LSTM's\n",
        "\n",
        "\n",
        "## Layer 1 Visualization\n",
        "Layer1 plots are as follows\n",
        "1. 1D with 10 gradients\n",
        "2. 1D with 500 gradients\n",
        "3. 2D with 500 gradients\n",
        "3. 1D with all gradients"
      ]
    },
    {
      "metadata": {
        "trusted": true,
        "_kg_hide-input": true,
        "id": "7suHFcijdWOf"
      },
      "cell_type": "code",
      "source": [
        "features_1D(grads1[:10] ,n_rows=2)\n",
        "features_1D(grads1[:500] ,n_rows=2)\n",
        "features_2D(grads1[:500])\n",
        "features_1D(grads1 ,n_rows=2)\n"
      ],
      "execution_count": null,
      "outputs": []
    },
    {
      "metadata": {
        "id": "kASrGKFkdWOg"
      },
      "cell_type": "markdown",
      "source": [
        "## Layer2 Visualization\n",
        "Layer2 plots are as follows\n",
        "1. 1D with 500 gradients\n",
        "2. 2D with 500 gradients\n",
        "3. 1D with all gradients\n",
        "4. 2D with all gradients"
      ]
    },
    {
      "metadata": {
        "trusted": true,
        "_kg_hide-input": true,
        "id": "deja6PxVdWOg"
      },
      "cell_type": "code",
      "source": [
        "features_1D(grads2[:500], n_rows=2)\n",
        "features_2D(grads2[:500], n_rows=2)\n",
        "features_1D(grads2, n_rows=2)"
      ],
      "execution_count": null,
      "outputs": []
    },
    {
      "metadata": {
        "id": "iJhmkYC3dWOg"
      },
      "cell_type": "markdown",
      "source": [
        "## Output Layer Visualization"
      ]
    },
    {
      "metadata": {
        "trusted": true,
        "_kg_hide-input": true,
        "id": "E_QX8x_RdWOw"
      },
      "cell_type": "code",
      "source": [
        "features_1D(output, n_rows=2)\n",
        "features_2D(output, n_rows=2)\n"
      ],
      "execution_count": null,
      "outputs": []
    },
    {
      "metadata": {
        "id": "LUa6yPyydWOx"
      },
      "cell_type": "markdown",
      "source": [
        "## LSTM Histograms"
      ]
    },
    {
      "metadata": {
        "trusted": true,
        "id": "DUyhjRRldWOy"
      },
      "cell_type": "code",
      "source": [
        "rnn_histogram(lstm_model, 'lstm', equate_axes=False)"
      ],
      "execution_count": null,
      "outputs": []
    },
    {
      "metadata": {
        "id": "IeEkC1LPdWOz"
      },
      "cell_type": "markdown",
      "source": [
        "## HEATMAP"
      ]
    },
    {
      "metadata": {
        "trusted": true,
        "id": "afxfpCS9dWO0"
      },
      "cell_type": "code",
      "source": [
        "rnn_heatmap(lstm_model, 'lstm')"
      ],
      "execution_count": null,
      "outputs": []
    }
  ],
  "metadata": {
    "kernelspec": {
      "language": "python",
      "display_name": "Python 3",
      "name": "python3"
    },
    "language_info": {
      "pygments_lexer": "ipython3",
      "nbconvert_exporter": "python",
      "version": "3.6.4",
      "file_extension": ".py",
      "codemirror_mode": {
        "name": "ipython",
        "version": 3
      },
      "name": "python",
      "mimetype": "text/x-python"
    },
    "colab": {
      "name": "Stock Prices Predictions-EDA,LSTM(DeepExploration)",
      "provenance": [],
      "include_colab_link": true
    }
  },
  "nbformat": 4,
  "nbformat_minor": 0
}